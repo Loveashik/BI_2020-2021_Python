{
 "cells": [
  {
   "cell_type": "code",
   "execution_count": 1,
   "metadata": {},
   "outputs": [],
   "source": [
    "import sqlite3\n",
    "import pandas as pd"
   ]
  },
  {
   "cell_type": "markdown",
   "metadata": {},
   "source": [
    "### Создание базы данных о полевках из ЗИНа\n",
    "\n",
    "Для начала создадим базу с характеристиками митохондриальных геномов полевочьих"
   ]
  },
  {
   "cell_type": "code",
   "execution_count": 2,
   "metadata": {},
   "outputs": [
    {
     "name": "stdout",
     "output_type": "stream",
     "text": [
      "<class 'pandas.core.frame.DataFrame'>\n",
      "RangeIndex: 40 entries, 0 to 39\n",
      "Data columns (total 12 columns):\n",
      " #   Column     Non-Null Count  Dtype  \n",
      "---  ------     --------------  -----  \n",
      " 0   Tribe      40 non-null     object \n",
      " 1   Genus      40 non-null     object \n",
      " 2   Species    40 non-null     object \n",
      " 3   tissue     40 non-null     object \n",
      " 4   collector  23 non-null     object \n",
      " 5   year       18 non-null     float64\n",
      " 6   T          40 non-null     float64\n",
      " 7   A          40 non-null     float64\n",
      " 8   C          40 non-null     float64\n",
      " 9   G          40 non-null     float64\n",
      " 10  GC count   40 non-null     float64\n",
      " 11  GC skew    40 non-null     float64\n",
      "dtypes: float64(7), object(5)\n",
      "memory usage: 3.9+ KB\n"
     ]
    }
   ],
   "source": [
    "df = pd.read_csv('mt_stats.tsv', sep='\\t')\n",
    "df.info()"
   ]
  },
  {
   "cell_type": "markdown",
   "metadata": {},
   "source": [
    "Создадим базу и таблицу с характеристиками"
   ]
  },
  {
   "cell_type": "code",
   "execution_count": 3,
   "metadata": {},
   "outputs": [
    {
     "name": "stderr",
     "output_type": "stream",
     "text": [
      "/home/asha/ИБ/python/SQL/venv/lib/python3.8/site-packages/pandas/core/generic.py:2779: UserWarning: The spaces in these column names will not be changed. In pandas versions < 0.14, spaces were converted to underscores.\n",
      "  sql.to_sql(\n"
     ]
    }
   ],
   "source": [
    "with sqlite3.connect('voles.db') as conn:\n",
    "    conn.execute('PRAGMA FOREIGN_KEYS=ON')\n",
    "    c = conn.cursor()\n",
    "    c.execute('PRAGMA FOREIGN_KEYS=ON')\n",
    "    c.execute('''\n",
    "                CREATE TABLE mt_stats (\n",
    "                [Tribe] text,\n",
    "                [Genus] text,\n",
    "                [Species] text PRIMARY KEY,\n",
    "                [tissue] text,\n",
    "                [collector] text,\n",
    "                [year] integer,\n",
    "                [T] integer,\n",
    "                [A] integer,\n",
    "                [C] integer,\n",
    "                [G] integer,\n",
    "                [GC count] float,\n",
    "                [GC skew] float)\n",
    "             ''')\n",
    "    df.to_sql('mt_stats', conn, if_exists='append', index=False)"
   ]
  },
  {
   "cell_type": "markdown",
   "metadata": {},
   "source": [
    "Заполним таблицу данными"
   ]
  },
  {
   "cell_type": "code",
   "execution_count": 4,
   "metadata": {},
   "outputs": [
    {
     "name": "stdout",
     "output_type": "stream",
     "text": [
      "[(27.9, 13.4), (28.3, 13.6), (27.4, 14.4), (28.3, 12.8), (28.5, 13.4), (30.8, 13), (27.7, 13.6), (27.8, 13.1), (28.4, 13.1), (28.6, 13.3), (27.9, 13.3)]\n"
     ]
    }
   ],
   "source": [
    "# Проверяем, что записи добавились и тестируем запрос\n",
    "\n",
    "with sqlite3.connect('voles.db') as conn:\n",
    "    c = conn.cursor()\n",
    "    c.execute('''\n",
    "              SELECT T, G FROM mt_stats\n",
    "              WHERE Genus='Microtus'\n",
    "              ''')\n",
    "    print(c.fetchall())"
   ]
  },
  {
   "cell_type": "markdown",
   "metadata": {},
   "source": [
    "### Добавим еще одну таблицу в базу данных \n",
    "Создадим таблицу для транскриптомных данных, для нее свяжем виды с предыдущей таблицей по ключу Species"
   ]
  },
  {
   "cell_type": "code",
   "execution_count": 5,
   "metadata": {},
   "outputs": [
    {
     "name": "stdout",
     "output_type": "stream",
     "text": [
      "<class 'pandas.core.frame.DataFrame'>\n",
      "RangeIndex: 29 entries, 0 to 28\n",
      "Data columns (total 14 columns):\n",
      " #   Column                     Non-Null Count  Dtype  \n",
      "---  ------                     --------------  -----  \n",
      " 0   Species                    29 non-null     object \n",
      " 1   № base / server            19 non-null     object \n",
      " 2   Total trinity 'genes'      27 non-null     float64\n",
      " 3   Total trinity transcripts  27 non-null     float64\n",
      " 4   Percent GC                 27 non-null     float64\n",
      " 5   N10                        27 non-null     float64\n",
      " 6   N20                        27 non-null     float64\n",
      " 7   N30                        27 non-null     float64\n",
      " 8   N40                        27 non-null     float64\n",
      " 9   N50                        27 non-null     float64\n",
      " 10  Median contig length       27 non-null     float64\n",
      " 11  Average contig             27 non-null     float64\n",
      " 12  Total assembled bases      27 non-null     float64\n",
      " 13  Source                     29 non-null     object \n",
      "dtypes: float64(11), object(3)\n",
      "memory usage: 3.3+ KB\n"
     ]
    }
   ],
   "source": [
    "df = pd.read_csv('trinity_stats.tsv', sep='\\t')\n",
    "df.info()"
   ]
  },
  {
   "cell_type": "code",
   "execution_count": 6,
   "metadata": {},
   "outputs": [],
   "source": [
    "with sqlite3.connect('voles.db') as conn:\n",
    "    conn.execute('PRAGMA FOREIGN_KEYS=ON')\n",
    "    c = conn.cursor()\n",
    "    c.execute('''CREATE TABLE trinity_stats(\n",
    "                 [id] integer PRIMARY KEY,\n",
    "                 [Species] text,\n",
    "                 [№ base / server] text,\n",
    "                 [Total trinity 'genes'] integer,\n",
    "                 [Total trinity transcripts] integer,\n",
    "                 [Percent GC] integer,\n",
    "                 [N10] integer,\n",
    "                 [N20] integer,\n",
    "                 [N30] integer,\n",
    "                 [N40] integer,\n",
    "                 [N50] integer,\n",
    "                 [Median contig length] integer,\n",
    "                 [Average contig] float,\n",
    "                 [Total assembled bases] integer,\n",
    "                 [Source] text,\n",
    "                 FOREIGN KEY (Species)\n",
    "                 REFERENCES mt_stats (Species)\n",
    "                    ON DELETE CASCADE)''')\n",
    "conn.commit()"
   ]
  },
  {
   "cell_type": "code",
   "execution_count": 7,
   "metadata": {},
   "outputs": [],
   "source": [
    "with sqlite3.connect('voles.db') as conn:\n",
    "    c.execute('PRAGMA FOREIGN_KEYS=ON')\n",
    "    df.to_sql('trinity_stats', conn, if_exists='append', index=False)\n",
    "    conn.commit()"
   ]
  },
  {
   "cell_type": "code",
   "execution_count": 8,
   "metadata": {},
   "outputs": [
    {
     "name": "stdout",
     "output_type": "stream",
     "text": [
      "[('L. brandtii', 2573), ('L. mandarinus', 2552), ('M. pennsylvanicus', 2388), ('A. amphibius', 2343), ('E. lutescens', 2569), ('C. glareolus', 2619), ('L. gregalis', 3043), ('L. raddei', 3571), ('T. subterraneus', 2508), ('A. lemminus', 2679), ('L. sibiricus', 2580), ('M. schisticolor', 2579), ('P. schaposchnikowi', 2890), ('C. nivalis', 3219), ('Clethrionomys sp.', 2478), ('A. tuvinicus', 2444), ('A. macrotis', 2963), ('L. lagurus', 2880)]\n"
     ]
    }
   ],
   "source": [
    "# Проверяем, что записи добавились и тестируем запрос\n",
    "\n",
    "with sqlite3.connect('voles.db') as conn:\n",
    "    c = conn.cursor()\n",
    "    c.execute('''\n",
    "              SELECT Species, N50 FROM trinity_stats\n",
    "              WHERE N50>=2300\n",
    "              ''')\n",
    "    print(c.fetchall())"
   ]
  },
  {
   "cell_type": "markdown",
   "metadata": {},
   "source": [
    "#### Изменим значения в базе в колонке Source, вместо \"наш\" подставим \"ZIN\"\n"
   ]
  },
  {
   "cell_type": "code",
   "execution_count": 9,
   "metadata": {},
   "outputs": [],
   "source": [
    "with sqlite3.connect('voles.db') as conn:\n",
    "    c = conn.cursor()\n",
    "    c.execute('''\n",
    "                UPDATE trinity_stats\n",
    "                SET Source = 'ZIN'\n",
    "                WHERE Source = 'наш'; \n",
    "              ''')"
   ]
  },
  {
   "cell_type": "code",
   "execution_count": 10,
   "metadata": {},
   "outputs": [
    {
     "name": "stdout",
     "output_type": "stream",
     "text": [
      "[]\n"
     ]
    }
   ],
   "source": [
    "# Проверка\n",
    "\n",
    "with sqlite3.connect('voles.db') as conn:\n",
    "    c = conn.cursor()\n",
    "    c.execute('''\n",
    "              SELECT Species FROM trinity_stats\n",
    "              WHERE Source = 'genome'\n",
    "              ''')\n",
    "    print(c.fetchall())"
   ]
  },
  {
   "cell_type": "markdown",
   "metadata": {},
   "source": [
    "#### Удалим те записи, где источник данных - genome"
   ]
  },
  {
   "cell_type": "code",
   "execution_count": 11,
   "metadata": {},
   "outputs": [],
   "source": [
    "with sqlite3.connect('voles.db') as conn:\n",
    "    c = conn.cursor()\n",
    "    c.execute('''\n",
    "                DELETE FROM trinity_stats WHERE Source='genome';\n",
    "              ''')"
   ]
  },
  {
   "cell_type": "code",
   "execution_count": 12,
   "metadata": {},
   "outputs": [
    {
     "name": "stdout",
     "output_type": "stream",
     "text": [
      "[]\n"
     ]
    }
   ],
   "source": [
    "# Проверка\n",
    "\n",
    "with sqlite3.connect('voles.db') as conn:\n",
    "    c = conn.cursor()\n",
    "    c.execute('''\n",
    "              SELECT Species FROM trinity_stats\n",
    "              WHERE Source = 'genome'\n",
    "              ''')\n",
    "    print(c.fetchall())"
   ]
  },
  {
   "cell_type": "markdown",
   "metadata": {},
   "source": [
    "### CASCADE delete\n",
    "Попробуем удалить запись из таблицы с данными о сборке представителя вида C. nivalis. Данные о его митогеноме должны быть также удалены"
   ]
  },
  {
   "cell_type": "code",
   "execution_count": 13,
   "metadata": {},
   "outputs": [
    {
     "name": "stdout",
     "output_type": "stream",
     "text": [
      "[('Arvicolini', 'Chionomys', 'C. nivalis', '2737', 'Стекольников АА', 2009, 28, 31, 27.7, 13.3, 35.6735, -0.3176)]\n"
     ]
    }
   ],
   "source": [
    "# Тестируем запрос\n",
    "\n",
    "with sqlite3.connect('voles.db') as conn:\n",
    "    c = conn.cursor()\n",
    "    c.execute('''\n",
    "              SELECT * FROM mt_stats\n",
    "              WHERE Species='C. nivalis'\n",
    "              ''')\n",
    "    print(c.fetchall())\n",
    "    "
   ]
  },
  {
   "cell_type": "code",
   "execution_count": 14,
   "metadata": {},
   "outputs": [
    {
     "name": "stdout",
     "output_type": "stream",
     "text": [
      "[(19, 'C. nivalis', '5440, 5441', 46957, 71753, 49.78, 7523, 5764, 4673, 3904, 3219, 775, 1592.66, 114277997, 'ZIN')]\n"
     ]
    }
   ],
   "source": [
    "# Тестируем запрос\n",
    "\n",
    "with sqlite3.connect('voles.db') as conn:\n",
    "    c = conn.cursor()\n",
    "    c.execute('''\n",
    "              SELECT * FROM trinity_stats\n",
    "              WHERE Species='C. nivalis'\n",
    "              ''')\n",
    "    print(c.fetchall())"
   ]
  },
  {
   "cell_type": "code",
   "execution_count": 15,
   "metadata": {},
   "outputs": [],
   "source": [
    "with sqlite3.connect('voles.db') as conn:\n",
    "    conn.execute('PRAGMA FOREIGN_KEYS=ON')\n",
    "    c = conn.cursor()\n",
    "    c.execute('''\n",
    "                DELETE FROM mt_stats WHERE Species='C. nivalis';\n",
    "              ''')"
   ]
  },
  {
   "cell_type": "code",
   "execution_count": 16,
   "metadata": {},
   "outputs": [
    {
     "name": "stdout",
     "output_type": "stream",
     "text": [
      "[]\n"
     ]
    }
   ],
   "source": [
    "# Тестируем запрос\n",
    "\n",
    "with sqlite3.connect('voles.db') as conn:\n",
    "    c = conn.cursor()\n",
    "    c.execute('''\n",
    "              SELECT * FROM trinity_stats\n",
    "              WHERE Species='C. nivalis'\n",
    "              ''')\n",
    "    print(c.fetchall())"
   ]
  },
  {
   "cell_type": "code",
   "execution_count": 17,
   "metadata": {},
   "outputs": [
    {
     "name": "stdout",
     "output_type": "stream",
     "text": [
      "[]\n"
     ]
    }
   ],
   "source": [
    "# Тестируем запрос\n",
    "\n",
    "with sqlite3.connect('voles.db') as conn:\n",
    "    c = conn.cursor()\n",
    "    c.execute('''\n",
    "              SELECT * FROM mt_stats\n",
    "              WHERE Species='C. nivalis'\n",
    "              ''')\n",
    "    print(c.fetchall())"
   ]
  },
  {
   "cell_type": "code",
   "execution_count": null,
   "metadata": {},
   "outputs": [],
   "source": []
  }
 ],
 "metadata": {
  "kernelspec": {
   "display_name": "Python 3",
   "language": "python",
   "name": "python3"
  },
  "language_info": {
   "codemirror_mode": {
    "name": "ipython",
    "version": 3
   },
   "file_extension": ".py",
   "mimetype": "text/x-python",
   "name": "python",
   "nbconvert_exporter": "python",
   "pygments_lexer": "ipython3",
   "version": "3.8.3"
  }
 },
 "nbformat": 4,
 "nbformat_minor": 2
}
